{
 "cells": [
  {
   "cell_type": "markdown",
   "id": "7a53e3f4-9083-4f8c-a8ae-c50ad792375b",
   "metadata": {},
   "source": [
    "### Read Me First\n",
    "\n",
    "This notebook is to examine the main table used in the code for embedding (ratings.csv) in the Movielens example; this file is also known as the user item matrix which is important for recommendation systems\n",
    "\n",
    "The purpose to examine the ratings table is to understand it better so that we can come up with a similar construct for restaurant menus"
   ]
  },
  {
   "cell_type": "code",
   "execution_count": 1,
   "id": "4fc361c8-507b-4427-a79e-0bd21e1fea28",
   "metadata": {},
   "outputs": [],
   "source": [
    "import numpy as np\n",
    "import pandas as pd\n",
    "import os\n",
    "\n",
    "from pathlib import Path"
   ]
  },
  {
   "cell_type": "code",
   "execution_count": 4,
   "id": "2b8af363-aeac-429c-8ed3-467176a75bdd",
   "metadata": {},
   "outputs": [],
   "source": [
    "RLRS_root_location = Path().absolute() / \"../\"\n",
    "ratings = pd.read_csv(f'{RLRS_root_location}/data/ml-1m-csv/ratings.csv')"
   ]
  },
  {
   "cell_type": "code",
   "execution_count": 7,
   "id": "79b70504-2c7f-4e63-bfa5-c4cf8007ca70",
   "metadata": {},
   "outputs": [
    {
     "data": {
      "text/plain": [
       "Index(['UserID', 'MovieID', 'Rating', 'Timestamp'], dtype='object')"
      ]
     },
     "execution_count": 7,
     "metadata": {},
     "output_type": "execute_result"
    }
   ],
   "source": [
    "ratings.columns"
   ]
  },
  {
   "cell_type": "code",
   "execution_count": 18,
   "id": "1d8b7417-ce67-4371-b6c0-7d04ea2fa96e",
   "metadata": {},
   "outputs": [],
   "source": [
    "ratings['pair_id'] = ratings.UserID.astype(str) +\"-\" + ratings.MovieID.astype(str)"
   ]
  },
  {
   "cell_type": "code",
   "execution_count": 20,
   "id": "a02de4f1-f6f4-408e-80bb-985a8516769d",
   "metadata": {},
   "outputs": [
    {
     "data": {
      "text/plain": [
       "0             1-1193\n",
       "1              1-661\n",
       "2              1-914\n",
       "3             1-3408\n",
       "4             1-2355\n",
       "             ...    \n",
       "1000204    6040-1091\n",
       "1000205    6040-1094\n",
       "1000206     6040-562\n",
       "1000207    6040-1096\n",
       "1000208    6040-1097\n",
       "Name: pair_id, Length: 1000209, dtype: object"
      ]
     },
     "execution_count": 20,
     "metadata": {},
     "output_type": "execute_result"
    }
   ],
   "source": [
    "ratings.pair_id"
   ]
  },
  {
   "cell_type": "code",
   "execution_count": 21,
   "id": "03dca9a0-1717-46f6-a1a4-43ddb56e0b15",
   "metadata": {},
   "outputs": [
    {
     "data": {
      "text/plain": [
       "1000209"
      ]
     },
     "execution_count": 21,
     "metadata": {},
     "output_type": "execute_result"
    }
   ],
   "source": [
    "len(ratings.pair_id.unique())"
   ]
  },
  {
   "cell_type": "code",
   "execution_count": 22,
   "id": "b0b07d6e-9da1-48cf-861f-d599bad8bb51",
   "metadata": {},
   "outputs": [
    {
     "data": {
      "text/plain": [
       "1000209"
      ]
     },
     "execution_count": 22,
     "metadata": {},
     "output_type": "execute_result"
    }
   ],
   "source": [
    "len(ratings)"
   ]
  },
  {
   "cell_type": "code",
   "execution_count": 23,
   "id": "adb30168-1ab7-47d2-a880-8e145467642b",
   "metadata": {},
   "outputs": [
    {
     "data": {
      "text/plain": [
       "3706"
      ]
     },
     "execution_count": 23,
     "metadata": {},
     "output_type": "execute_result"
    }
   ],
   "source": [
    "len(ratings.MovieID.unique())"
   ]
  },
  {
   "cell_type": "code",
   "execution_count": 24,
   "id": "b837e1f4-30dc-4c81-9cd4-dd475ae15017",
   "metadata": {},
   "outputs": [
    {
     "data": {
      "text/plain": [
       "6040"
      ]
     },
     "execution_count": 24,
     "metadata": {},
     "output_type": "execute_result"
    }
   ],
   "source": [
    "len(ratings.UserID.unique())"
   ]
  },
  {
   "cell_type": "code",
   "execution_count": 25,
   "id": "2938e290-3336-4efa-98b4-dcb3707cc422",
   "metadata": {},
   "outputs": [
    {
     "data": {
      "text/plain": [
       "165.5975165562914"
      ]
     },
     "execution_count": 25,
     "metadata": {},
     "output_type": "execute_result"
    }
   ],
   "source": [
    "# average number of ratings given per user (note one rating = one item)\n",
    "len(ratings)/ len(ratings.UserID.unique())"
   ]
  },
  {
   "cell_type": "code",
   "execution_count": 28,
   "id": "6aa84213-5659-4c28-9c86-42cfdd903778",
   "metadata": {},
   "outputs": [
    {
     "data": {
      "text/plain": [
       "5"
      ]
     },
     "execution_count": 28,
     "metadata": {},
     "output_type": "execute_result"
    }
   ],
   "source": [
    "ratings.Rating.max()"
   ]
  },
  {
   "cell_type": "code",
   "execution_count": 29,
   "id": "d54093f5-9ee7-4f85-a496-64aca63d1f12",
   "metadata": {},
   "outputs": [
    {
     "data": {
      "text/plain": [
       "1"
      ]
     },
     "execution_count": 29,
     "metadata": {},
     "output_type": "execute_result"
    }
   ],
   "source": [
    "ratings.Rating.min()"
   ]
  },
  {
   "cell_type": "markdown",
   "id": "ded01bab-31cd-4bd8-bcd1-c116b5cd48b4",
   "metadata": {},
   "source": [
    "### READ ; below just stores my experiment with Chatgpt of how to get some useful code to generate a useable user_item matrix/ table\n",
    "\n",
    "Below is an example from chatgpt generating "
   ]
  },
  {
   "cell_type": "code",
   "execution_count": 32,
   "id": "76d82c37-f8bd-4e16-9106-b0dbadca3c0a",
   "metadata": {},
   "outputs": [
    {
     "name": "stdout",
     "output_type": "stream",
     "text": [
      "User-Item Matrix (Order Frequency):\n",
      "  user_id item_id  frequency\n",
      "0   user1   item1          3\n",
      "1   user1   item2          1\n",
      "2   user1   item3          0\n",
      "3   user2   item1          0\n",
      "4   user2   item2          2\n",
      "5   user2   item3          1\n",
      "6   user3   item1          1\n",
      "7   user3   item2          0\n",
      "8   user3   item3          4\n"
     ]
    }
   ],
   "source": [
    "user_item_interactions = {\n",
    "    'user1': {'item1': 3, 'item2': 1, 'item3': 0},\n",
    "    'user2': {'item1': 0, 'item2': 2, 'item3': 1},\n",
    "    'user3': {'item1': 1, 'item2': 0, 'item3': 4}\n",
    "}\n",
    "\n",
    "# Initialize lists to store user IDs, item IDs, and frequencies\n",
    "user_ids = []\n",
    "item_ids = []\n",
    "frequencies = []\n",
    "\n",
    "\n",
    "for user_id, item_data in user_item_interactions.items():\n",
    "    for item_id, frequency in item_data.items():\n",
    "        user_ids.append(user_id)\n",
    "        item_ids.append(item_id)\n",
    "        frequencies.append(frequency)\n",
    "\n",
    "# Create a pandas DataFrame from the lists\n",
    "df = pd.DataFrame({\n",
    "    'user_id': user_ids,\n",
    "    'item_id': item_ids,\n",
    "    'frequency': frequencies\n",
    "})\n",
    "\n",
    "print(\"User-Item Matrix (Order Frequency):\")\n",
    "print(df)"
   ]
  },
  {
   "cell_type": "code",
   "execution_count": 33,
   "id": "725d8ff3-4da6-4bf9-a537-ed6575016614",
   "metadata": {},
   "outputs": [
    {
     "name": "stdout",
     "output_type": "stream",
     "text": [
      "User-Item Matrix with Timestamps:\n",
      "  user_id item_id  frequency           timestamp\n",
      "0   user1   item1          3 2024-03-15 10:30:00\n",
      "1   user1   item2          1 2024-03-15 11:45:00\n",
      "2   user1   item3          0                 NaT\n",
      "3   user2   item1          0 2024-03-15 09:00:00\n",
      "4   user2   item2          2 2024-03-15 10:00:00\n",
      "5   user2   item3          1 2024-03-15 12:00:00\n",
      "6   user3   item1          1 2024-03-15 11:00:00\n",
      "7   user3   item2          0                 NaT\n",
      "8   user3   item3          4 2024-03-15 13:30:00\n"
     ]
    }
   ],
   "source": [
    "import pandas as pd\n",
    "from datetime import datetime\n",
    "\n",
    "# Example data: user-item interactions with timestamps\n",
    "user_item_interactions = {\n",
    "    'user1': {'item1': {'frequency': 3, 'timestamp': '2024-03-15 10:30:00'},\n",
    "              'item2': {'frequency': 1, 'timestamp': '2024-03-15 11:45:00'},\n",
    "              'item3': {'frequency': 0, 'timestamp': None}},\n",
    "    'user2': {'item1': {'frequency': 0, 'timestamp': '2024-03-15 09:00:00'},\n",
    "              'item2': {'frequency': 2, 'timestamp': '2024-03-15 10:00:00'},\n",
    "              'item3': {'frequency': 1, 'timestamp': '2024-03-15 12:00:00'}},\n",
    "    'user3': {'item1': {'frequency': 1, 'timestamp': '2024-03-15 11:00:00'},\n",
    "              'item2': {'frequency': 0, 'timestamp': None},\n",
    "              'item3': {'frequency': 4, 'timestamp': '2024-03-15 13:30:00'}}\n",
    "}\n",
    "\n",
    "# Initialize lists to store user IDs, item IDs, frequencies, and timestamps\n",
    "user_ids = []\n",
    "item_ids = []\n",
    "frequencies = []\n",
    "timestamps = []\n",
    "\n",
    "# Loop through the user-item interactions and extract data\n",
    "for user_id, item_data in user_item_interactions.items():\n",
    "    for item_id, interaction_data in item_data.items():\n",
    "        user_ids.append(user_id)\n",
    "        item_ids.append(item_id)\n",
    "        frequencies.append(interaction_data['frequency'])\n",
    "        timestamps.append(interaction_data['timestamp'])\n",
    "\n",
    "# Create a pandas DataFrame from the lists\n",
    "df = pd.DataFrame({\n",
    "    'user_id': user_ids,\n",
    "    'item_id': item_ids,\n",
    "    'frequency': frequencies,\n",
    "    'timestamp': timestamps\n",
    "})\n",
    "\n",
    "# Convert timestamp column to datetime type\n",
    "df['timestamp'] = pd.to_datetime(df['timestamp'])\n",
    "\n",
    "print(\"User-Item Matrix with Timestamps:\")\n",
    "print(df)\n"
   ]
  },
  {
   "cell_type": "code",
   "execution_count": 34,
   "id": "9bbf0c50-affa-4c4f-85f7-79f2f23446a1",
   "metadata": {},
   "outputs": [
    {
     "name": "stdout",
     "output_type": "stream",
     "text": [
      "Left Singular Vectors (Users):\n",
      "[[-0.34429397  0.92075408  0.18350363]\n",
      " [-0.29393239  0.0799174  -0.95247938]\n",
      " [-0.89166441 -0.38187056  0.24312437]]\n",
      "\n",
      "Singular Values:\n",
      "[4.41327018 2.98820697 1.89569654]\n",
      "\n",
      "Right Singular Vectors (Items):\n",
      "[[-0.43608169 -0.21121724 -0.87476856]\n",
      " [ 0.79659532  0.36161782 -0.4844259 ]\n",
      " [ 0.418651   -0.90808581  0.01055976]]\n"
     ]
    }
   ],
   "source": [
    "import pandas as pd\n",
    "import numpy as np\n",
    "from datetime import datetime\n",
    "\n",
    "# Example data: user-item interactions with timestamps\n",
    "user_item_interactions = {\n",
    "    'user1': {'item1': {'frequency': 3, 'timestamp': '2024-03-15 10:30:00'},\n",
    "              'item2': {'frequency': 1, 'timestamp': '2024-03-15 11:45:00'},\n",
    "              'item3': {'frequency': 0, 'timestamp': None}},\n",
    "    'user2': {'item1': {'frequency': 0, 'timestamp': '2024-03-15 09:00:00'},\n",
    "              'item2': {'frequency': 2, 'timestamp': '2024-03-15 10:00:00'},\n",
    "              'item3': {'frequency': 1, 'timestamp': '2024-03-15 12:00:00'}},\n",
    "    'user3': {'item1': {'frequency': 1, 'timestamp': '2024-03-15 11:00:00'},\n",
    "              'item2': {'frequency': 0, 'timestamp': None},\n",
    "              'item3': {'frequency': 4, 'timestamp': '2024-03-15 13:30:00'}}\n",
    "}\n",
    "\n",
    "# Initialize lists to store user IDs, item IDs, and frequencies\n",
    "user_ids = []\n",
    "item_ids = []\n",
    "frequencies = []\n",
    "\n",
    "# Loop through the user-item interactions and extract data\n",
    "for user_id, item_data in user_item_interactions.items():\n",
    "    for item_id, interaction_data in item_data.items():\n",
    "        user_ids.append(user_id)\n",
    "        item_ids.append(item_id)\n",
    "        frequencies.append(interaction_data['frequency'])\n",
    "\n",
    "# Create a pandas DataFrame from the lists\n",
    "df = pd.DataFrame({\n",
    "    'user_id': user_ids,\n",
    "    'item_id': item_ids,\n",
    "    'frequency': frequencies\n",
    "})\n",
    "\n",
    "# Create the user-item matrix\n",
    "user_item_matrix = pd.pivot_table(df, values='frequency', index='user_id', columns='item_id', fill_value=0)\n",
    "\n",
    "# Apply SVD\n",
    "U, S, Vt = np.linalg.svd(user_item_matrix)\n",
    "\n",
    "print(\"Left Singular Vectors (Users):\")\n",
    "print(U)\n",
    "\n",
    "print(\"\\nSingular Values:\")\n",
    "print(S)\n",
    "\n",
    "print(\"\\nRight Singular Vectors (Items):\")\n",
    "print(Vt)\n"
   ]
  },
  {
   "cell_type": "code",
   "execution_count": 35,
   "id": "c4178dea-4707-47ae-97a7-154e2821ff1b",
   "metadata": {},
   "outputs": [
    {
     "data": {
      "text/html": [
       "<div>\n",
       "<style scoped>\n",
       "    .dataframe tbody tr th:only-of-type {\n",
       "        vertical-align: middle;\n",
       "    }\n",
       "\n",
       "    .dataframe tbody tr th {\n",
       "        vertical-align: top;\n",
       "    }\n",
       "\n",
       "    .dataframe thead th {\n",
       "        text-align: right;\n",
       "    }\n",
       "</style>\n",
       "<table border=\"1\" class=\"dataframe\">\n",
       "  <thead>\n",
       "    <tr style=\"text-align: right;\">\n",
       "      <th>item_id</th>\n",
       "      <th>item1</th>\n",
       "      <th>item2</th>\n",
       "      <th>item3</th>\n",
       "    </tr>\n",
       "    <tr>\n",
       "      <th>user_id</th>\n",
       "      <th></th>\n",
       "      <th></th>\n",
       "      <th></th>\n",
       "    </tr>\n",
       "  </thead>\n",
       "  <tbody>\n",
       "    <tr>\n",
       "      <th>user1</th>\n",
       "      <td>3.0</td>\n",
       "      <td>1.0</td>\n",
       "      <td>0.0</td>\n",
       "    </tr>\n",
       "    <tr>\n",
       "      <th>user2</th>\n",
       "      <td>0.0</td>\n",
       "      <td>2.0</td>\n",
       "      <td>1.0</td>\n",
       "    </tr>\n",
       "    <tr>\n",
       "      <th>user3</th>\n",
       "      <td>1.0</td>\n",
       "      <td>0.0</td>\n",
       "      <td>4.0</td>\n",
       "    </tr>\n",
       "  </tbody>\n",
       "</table>\n",
       "</div>"
      ],
      "text/plain": [
       "item_id  item1  item2  item3\n",
       "user_id                     \n",
       "user1      3.0    1.0    0.0\n",
       "user2      0.0    2.0    1.0\n",
       "user3      1.0    0.0    4.0"
      ]
     },
     "execution_count": 35,
     "metadata": {},
     "output_type": "execute_result"
    }
   ],
   "source": [
    "user_item_matrix"
   ]
  },
  {
   "cell_type": "code",
   "execution_count": 36,
   "id": "c17a8e16-bd98-4eec-9aab-493fd3cf0ccd",
   "metadata": {},
   "outputs": [
    {
     "name": "stdout",
     "output_type": "stream",
     "text": [
      "Flattened DataFrame:\n",
      "   order_id option_id\n",
      "0         1       101\n",
      "1         1       102\n",
      "2         1       103\n",
      "3         2       201\n",
      "4         2       202\n",
      "5         3       301\n"
     ]
    }
   ],
   "source": [
    "import pandas as pd\n",
    "\n",
    "# Example DataFrame with order_id and option_ids columns\n",
    "data = {\n",
    "    'order_id': [1, 2, 3],\n",
    "    'option_ids': ['101|102|103', '201|202', '301']\n",
    "}\n",
    "\n",
    "df = pd.DataFrame(data)\n",
    "\n",
    "# Function to split option_ids string and create new rows\n",
    "def unnest_options(row):\n",
    "    option_ids = row['option_ids'].split('|')\n",
    "    return pd.DataFrame({'order_id': [row['order_id']] * len(option_ids),\n",
    "                         'option_id': option_ids})\n",
    "\n",
    "# Apply unnest_options function to each row and concatenate the results\n",
    "new_df = pd.concat([unnest_options(row) for _, row in df.iterrows()], ignore_index=True)\n",
    "\n",
    "print(\"Flattened DataFrame:\")\n",
    "print(new_df)\n"
   ]
  },
  {
   "cell_type": "code",
   "execution_count": null,
   "id": "c35f0602-0443-4a88-8bc2-ee1a6af84089",
   "metadata": {},
   "outputs": [],
   "source": []
  }
 ],
 "metadata": {
  "kernelspec": {
   "display_name": "Python 3 (ipykernel)",
   "language": "python",
   "name": "python3"
  },
  "language_info": {
   "codemirror_mode": {
    "name": "ipython",
    "version": 3
   },
   "file_extension": ".py",
   "mimetype": "text/x-python",
   "name": "python",
   "nbconvert_exporter": "python",
   "pygments_lexer": "ipython3",
   "version": "3.10.13"
  }
 },
 "nbformat": 4,
 "nbformat_minor": 5
}
