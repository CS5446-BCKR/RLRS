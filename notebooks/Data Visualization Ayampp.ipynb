{
 "cells": [
  {
   "cell_type": "code",
   "execution_count": 8,
   "id": "085357ae-1b6e-4ac2-9705-5b2ab75a17ef",
   "metadata": {},
   "outputs": [],
   "source": [
    "import numpy as np\n",
    "import pandas as pd\n",
    "import os\n",
    "\n",
    "from pathlib import Path"
   ]
  },
  {
   "cell_type": "code",
   "execution_count": 9,
   "id": "a34b28d5-704c-4146-96a2-e33f6eb1cd07",
   "metadata": {},
   "outputs": [],
   "source": [
    "RLRS_root_location = Path().absolute() / \"../\"\n",
    "df_mi = pd.read_csv(f'{RLRS_root_location}/data/ayampp/menu_items.csv')\n",
    "df_mg = pd.read_csv(f'{RLRS_root_location}/data/ayampp/mod_groups.csv')\n",
    "df_mii = pd.read_csv(f'{RLRS_root_location}/data/ayampp/mod_items.csv')\n",
    "#df_od = pd.read_csv(f'{RLRS_root_location}/data/ayampp/orders.csv')"
   ]
  },
  {
   "cell_type": "code",
   "execution_count": 10,
   "id": "f7c5e100-b767-4ad0-8054-b96da3aa04a3",
   "metadata": {},
   "outputs": [
    {
     "name": "stderr",
     "output_type": "stream",
     "text": [
      "C:\\Users\\Benjamin Thong\\AppData\\Local\\Temp\\ipykernel_27356\\2133616853.py:1: DtypeWarning: Columns (32,33,34,35,36,37,38,39,40,41,42,43,44,45,46,47,48,49,50,51,52,53,54,55,98,99,100,101,102,103,104,105,106,107,108,109,110,111,112,113,114,115,116,117,118,119,120,121,157,158,160,162,163,164,165,166,167,168,169,170,171,173,174,175,176,177,178,182,183) have mixed types. Specify dtype option on import or set low_memory=False.\n",
      "  df_od = pd.read_csv(f'{RLRS_root_location}/data/ayampp/orders.csv')\n"
     ]
    }
   ],
   "source": [
    "df_od = pd.read_csv(f'{RLRS_root_location}/data/ayampp/orders.csv')"
   ]
  },
  {
   "cell_type": "code",
   "execution_count": 11,
   "id": "ba8befea-0348-43af-a132-b6a306e23687",
   "metadata": {},
   "outputs": [
    {
     "data": {
      "text/html": [
       "<div>\n",
       "<style scoped>\n",
       "    .dataframe tbody tr th:only-of-type {\n",
       "        vertical-align: middle;\n",
       "    }\n",
       "\n",
       "    .dataframe tbody tr th {\n",
       "        vertical-align: top;\n",
       "    }\n",
       "\n",
       "    .dataframe thead th {\n",
       "        text-align: right;\n",
       "    }\n",
       "</style>\n",
       "<table border=\"1\" class=\"dataframe\">\n",
       "  <thead>\n",
       "    <tr style=\"text-align: right;\">\n",
       "      <th></th>\n",
       "      <th>customer_id</th>\n",
       "      <th>order_id</th>\n",
       "      <th>created_at</th>\n",
       "      <th>served_at</th>\n",
       "      <th>item1</th>\n",
       "      <th>item2</th>\n",
       "      <th>item3</th>\n",
       "      <th>item4</th>\n",
       "      <th>item5</th>\n",
       "      <th>item6</th>\n",
       "      <th>...</th>\n",
       "      <th>mods57</th>\n",
       "      <th>mods58</th>\n",
       "      <th>mods59</th>\n",
       "      <th>mods60</th>\n",
       "      <th>mods61</th>\n",
       "      <th>mods62</th>\n",
       "      <th>mods63</th>\n",
       "      <th>mods64</th>\n",
       "      <th>mods65</th>\n",
       "      <th>mods66</th>\n",
       "    </tr>\n",
       "  </thead>\n",
       "  <tbody>\n",
       "    <tr>\n",
       "      <th>0</th>\n",
       "      <td>iE7KbXeQRrgdHW20acg1NUaKlM73</td>\n",
       "      <td>SpR2TLDrvcZWAOkPGtw4</td>\n",
       "      <td>1680698590599</td>\n",
       "      <td>1.680699e+12</td>\n",
       "      <td>uyLAIkFrugXDFupn5cH6</td>\n",
       "      <td>NaN</td>\n",
       "      <td>NaN</td>\n",
       "      <td>NaN</td>\n",
       "      <td>NaN</td>\n",
       "      <td>NaN</td>\n",
       "      <td>...</td>\n",
       "      <td>NaN</td>\n",
       "      <td>NaN</td>\n",
       "      <td>NaN</td>\n",
       "      <td>NaN</td>\n",
       "      <td>NaN</td>\n",
       "      <td>NaN</td>\n",
       "      <td>NaN</td>\n",
       "      <td>NaN</td>\n",
       "      <td>NaN</td>\n",
       "      <td>NaN</td>\n",
       "    </tr>\n",
       "    <tr>\n",
       "      <th>1</th>\n",
       "      <td>bvkoXpIE2SMiRm6CmOUFJyWZoP62</td>\n",
       "      <td>es6LCvJJwdS8kSvEZpE6</td>\n",
       "      <td>1680698562881</td>\n",
       "      <td>1.680699e+12</td>\n",
       "      <td>uaaCfJnKgLDbpp5BKjJs</td>\n",
       "      <td>sIYfTIFkqU3XYxoRy8G1</td>\n",
       "      <td>H1jWneJIwy0vU2nTrSMJ</td>\n",
       "      <td>NaN</td>\n",
       "      <td>NaN</td>\n",
       "      <td>NaN</td>\n",
       "      <td>...</td>\n",
       "      <td>NaN</td>\n",
       "      <td>NaN</td>\n",
       "      <td>NaN</td>\n",
       "      <td>NaN</td>\n",
       "      <td>NaN</td>\n",
       "      <td>NaN</td>\n",
       "      <td>NaN</td>\n",
       "      <td>NaN</td>\n",
       "      <td>NaN</td>\n",
       "      <td>NaN</td>\n",
       "    </tr>\n",
       "    <tr>\n",
       "      <th>2</th>\n",
       "      <td>vKbZ9j6WGsdBMc11HSBLLqnS14c2</td>\n",
       "      <td>RmfvCeCB0WAZMYl9EUqz</td>\n",
       "      <td>1680698602333</td>\n",
       "      <td>1.680699e+12</td>\n",
       "      <td>0Xd60T9Jc4hxDjD85u5w</td>\n",
       "      <td>uaaCfJnKgLDbpp5BKjJs</td>\n",
       "      <td>NaN</td>\n",
       "      <td>NaN</td>\n",
       "      <td>NaN</td>\n",
       "      <td>NaN</td>\n",
       "      <td>...</td>\n",
       "      <td>NaN</td>\n",
       "      <td>NaN</td>\n",
       "      <td>NaN</td>\n",
       "      <td>NaN</td>\n",
       "      <td>NaN</td>\n",
       "      <td>NaN</td>\n",
       "      <td>NaN</td>\n",
       "      <td>NaN</td>\n",
       "      <td>NaN</td>\n",
       "      <td>NaN</td>\n",
       "    </tr>\n",
       "    <tr>\n",
       "      <th>3</th>\n",
       "      <td>zs5V5O4zMPYiKxzO0e2EBy4uq403</td>\n",
       "      <td>bM0SUwEhyIOmwFZKoa09</td>\n",
       "      <td>1680698054810</td>\n",
       "      <td>1.680699e+12</td>\n",
       "      <td>Rp4T9cGa5SptaNJv2nuk</td>\n",
       "      <td>URP9e2B1WdCZkhX5Rl9j</td>\n",
       "      <td>NaN</td>\n",
       "      <td>NaN</td>\n",
       "      <td>NaN</td>\n",
       "      <td>NaN</td>\n",
       "      <td>...</td>\n",
       "      <td>NaN</td>\n",
       "      <td>NaN</td>\n",
       "      <td>NaN</td>\n",
       "      <td>NaN</td>\n",
       "      <td>NaN</td>\n",
       "      <td>NaN</td>\n",
       "      <td>NaN</td>\n",
       "      <td>NaN</td>\n",
       "      <td>NaN</td>\n",
       "      <td>NaN</td>\n",
       "    </tr>\n",
       "    <tr>\n",
       "      <th>4</th>\n",
       "      <td>zs5V5O4zMPYiKxzO0e2EBy4uq403</td>\n",
       "      <td>FyzALmAYzrDM0hW615VX</td>\n",
       "      <td>1681127093116</td>\n",
       "      <td>1.681127e+12</td>\n",
       "      <td>Bab6SE4e8yfncTSfJcbN</td>\n",
       "      <td>uaaCfJnKgLDbpp5BKjJs</td>\n",
       "      <td>NaN</td>\n",
       "      <td>NaN</td>\n",
       "      <td>NaN</td>\n",
       "      <td>NaN</td>\n",
       "      <td>...</td>\n",
       "      <td>NaN</td>\n",
       "      <td>NaN</td>\n",
       "      <td>NaN</td>\n",
       "      <td>NaN</td>\n",
       "      <td>NaN</td>\n",
       "      <td>NaN</td>\n",
       "      <td>NaN</td>\n",
       "      <td>NaN</td>\n",
       "      <td>NaN</td>\n",
       "      <td>NaN</td>\n",
       "    </tr>\n",
       "  </tbody>\n",
       "</table>\n",
       "<p>5 rows × 202 columns</p>\n",
       "</div>"
      ],
      "text/plain": [
       "                    customer_id              order_id     created_at  \\\n",
       "0  iE7KbXeQRrgdHW20acg1NUaKlM73  SpR2TLDrvcZWAOkPGtw4  1680698590599   \n",
       "1  bvkoXpIE2SMiRm6CmOUFJyWZoP62  es6LCvJJwdS8kSvEZpE6  1680698562881   \n",
       "2  vKbZ9j6WGsdBMc11HSBLLqnS14c2  RmfvCeCB0WAZMYl9EUqz  1680698602333   \n",
       "3  zs5V5O4zMPYiKxzO0e2EBy4uq403  bM0SUwEhyIOmwFZKoa09  1680698054810   \n",
       "4  zs5V5O4zMPYiKxzO0e2EBy4uq403  FyzALmAYzrDM0hW615VX  1681127093116   \n",
       "\n",
       "      served_at                 item1                 item2  \\\n",
       "0  1.680699e+12  uyLAIkFrugXDFupn5cH6                   NaN   \n",
       "1  1.680699e+12  uaaCfJnKgLDbpp5BKjJs  sIYfTIFkqU3XYxoRy8G1   \n",
       "2  1.680699e+12  0Xd60T9Jc4hxDjD85u5w  uaaCfJnKgLDbpp5BKjJs   \n",
       "3  1.680699e+12  Rp4T9cGa5SptaNJv2nuk  URP9e2B1WdCZkhX5Rl9j   \n",
       "4  1.681127e+12  Bab6SE4e8yfncTSfJcbN  uaaCfJnKgLDbpp5BKjJs   \n",
       "\n",
       "                  item3 item4 item5 item6  ... mods57 mods58 mods59 mods60  \\\n",
       "0                   NaN   NaN   NaN   NaN  ...    NaN    NaN    NaN    NaN   \n",
       "1  H1jWneJIwy0vU2nTrSMJ   NaN   NaN   NaN  ...    NaN    NaN    NaN    NaN   \n",
       "2                   NaN   NaN   NaN   NaN  ...    NaN    NaN    NaN    NaN   \n",
       "3                   NaN   NaN   NaN   NaN  ...    NaN    NaN    NaN    NaN   \n",
       "4                   NaN   NaN   NaN   NaN  ...    NaN    NaN    NaN    NaN   \n",
       "\n",
       "  mods61 mods62 mods63 mods64 mods65 mods66  \n",
       "0    NaN    NaN    NaN    NaN    NaN    NaN  \n",
       "1    NaN    NaN    NaN    NaN    NaN    NaN  \n",
       "2    NaN    NaN    NaN    NaN    NaN    NaN  \n",
       "3    NaN    NaN    NaN    NaN    NaN    NaN  \n",
       "4    NaN    NaN    NaN    NaN    NaN    NaN  \n",
       "\n",
       "[5 rows x 202 columns]"
      ]
     },
     "execution_count": 11,
     "metadata": {},
     "output_type": "execute_result"
    }
   ],
   "source": [
    "df_od.head()"
   ]
  },
  {
   "cell_type": "code",
   "execution_count": 12,
   "id": "b6eb7e03-bb00-4ca2-b709-cb6627fa9da6",
   "metadata": {},
   "outputs": [
    {
     "data": {
      "text/html": [
       "<div>\n",
       "<style scoped>\n",
       "    .dataframe tbody tr th:only-of-type {\n",
       "        vertical-align: middle;\n",
       "    }\n",
       "\n",
       "    .dataframe tbody tr th {\n",
       "        vertical-align: top;\n",
       "    }\n",
       "\n",
       "    .dataframe thead th {\n",
       "        text-align: right;\n",
       "    }\n",
       "</style>\n",
       "<table border=\"1\" class=\"dataframe\">\n",
       "  <thead>\n",
       "    <tr style=\"text-align: right;\">\n",
       "      <th></th>\n",
       "      <th>name</th>\n",
       "      <th>id</th>\n",
       "      <th>description</th>\n",
       "      <th>price</th>\n",
       "      <th>merchant</th>\n",
       "      <th>group_menu</th>\n",
       "      <th>mod_groups</th>\n",
       "    </tr>\n",
       "  </thead>\n",
       "  <tbody>\n",
       "    <tr>\n",
       "      <th>0</th>\n",
       "      <td>Fried Beef</td>\n",
       "      <td>0543xu5134bpUspvShIW</td>\n",
       "      <td>The fried beef is rich in spices, long marinat...</td>\n",
       "      <td>9.5</td>\n",
       "      <td>4Dvzz5yKZ2gk6YFdHMfS</td>\n",
       "      <td>LqZvGf7f90i6MAk6SJCs</td>\n",
       "      <td>ZL69bNccGQ8TwPsgOzoF|pTIRFZwgLT8FSJLckuot|qDlw...</td>\n",
       "    </tr>\n",
       "    <tr>\n",
       "      <th>1</th>\n",
       "      <td>Iced Coconut in Syrup</td>\n",
       "      <td>gBw96OaDxwGxaf12gYPd</td>\n",
       "      <td>Shaved ice with coconut water and pink syrup.</td>\n",
       "      <td>4.9</td>\n",
       "      <td>4Dvzz5yKZ2gk6YFdHMfS</td>\n",
       "      <td>zUQkQFsN8f9gSHf6l4Ya</td>\n",
       "      <td>f2Z1ZJEaDA9NDhY39VHT</td>\n",
       "    </tr>\n",
       "    <tr>\n",
       "      <th>2</th>\n",
       "      <td>Prawn Cracker</td>\n",
       "      <td>uk9Q0X2ebcgWzfcxaNej</td>\n",
       "      <td>Three pieces or large prawn cracker.</td>\n",
       "      <td>2.9</td>\n",
       "      <td>4Dvzz5yKZ2gk6YFdHMfS</td>\n",
       "      <td>TMMaJrfohp7ZGuUoR27q</td>\n",
       "      <td>NaN</td>\n",
       "    </tr>\n",
       "    <tr>\n",
       "      <th>3</th>\n",
       "      <td>Ayam Bakar</td>\n",
       "      <td>uaaCfJnKgLDbpp5BKjJs</td>\n",
       "      <td>Grilled to Perfection! Signature grilled tende...</td>\n",
       "      <td>7.9</td>\n",
       "      <td>4Dvzz5yKZ2gk6YFdHMfS</td>\n",
       "      <td>roQ7pn3vd9UPdXZ9OOw1</td>\n",
       "      <td>ZL69bNccGQ8TwPsgOzoF|4QAEKxmDozMnRVFC6ZeM|IDnx...</td>\n",
       "    </tr>\n",
       "    <tr>\n",
       "      <th>4</th>\n",
       "      <td>Potato Frikkadel</td>\n",
       "      <td>Ot1l8nPTpxhk314ChKqJ</td>\n",
       "      <td>Three pieces of traditional fried seasoned mas...</td>\n",
       "      <td>4.9</td>\n",
       "      <td>4Dvzz5yKZ2gk6YFdHMfS</td>\n",
       "      <td>11iJipKXFSRf69jjTZp8</td>\n",
       "      <td>NaN</td>\n",
       "    </tr>\n",
       "  </tbody>\n",
       "</table>\n",
       "</div>"
      ],
      "text/plain": [
       "                    name                    id  \\\n",
       "0             Fried Beef  0543xu5134bpUspvShIW   \n",
       "1  Iced Coconut in Syrup  gBw96OaDxwGxaf12gYPd   \n",
       "2          Prawn Cracker  uk9Q0X2ebcgWzfcxaNej   \n",
       "3             Ayam Bakar  uaaCfJnKgLDbpp5BKjJs   \n",
       "4       Potato Frikkadel  Ot1l8nPTpxhk314ChKqJ   \n",
       "\n",
       "                                         description  price  \\\n",
       "0  The fried beef is rich in spices, long marinat...    9.5   \n",
       "1      Shaved ice with coconut water and pink syrup.    4.9   \n",
       "2               Three pieces or large prawn cracker.    2.9   \n",
       "3  Grilled to Perfection! Signature grilled tende...    7.9   \n",
       "4  Three pieces of traditional fried seasoned mas...    4.9   \n",
       "\n",
       "               merchant            group_menu  \\\n",
       "0  4Dvzz5yKZ2gk6YFdHMfS  LqZvGf7f90i6MAk6SJCs   \n",
       "1  4Dvzz5yKZ2gk6YFdHMfS  zUQkQFsN8f9gSHf6l4Ya   \n",
       "2  4Dvzz5yKZ2gk6YFdHMfS  TMMaJrfohp7ZGuUoR27q   \n",
       "3  4Dvzz5yKZ2gk6YFdHMfS  roQ7pn3vd9UPdXZ9OOw1   \n",
       "4  4Dvzz5yKZ2gk6YFdHMfS  11iJipKXFSRf69jjTZp8   \n",
       "\n",
       "                                          mod_groups  \n",
       "0  ZL69bNccGQ8TwPsgOzoF|pTIRFZwgLT8FSJLckuot|qDlw...  \n",
       "1                               f2Z1ZJEaDA9NDhY39VHT  \n",
       "2                                                NaN  \n",
       "3  ZL69bNccGQ8TwPsgOzoF|4QAEKxmDozMnRVFC6ZeM|IDnx...  \n",
       "4                                                NaN  "
      ]
     },
     "execution_count": 12,
     "metadata": {},
     "output_type": "execute_result"
    }
   ],
   "source": [
    "df_mi.head()"
   ]
  },
  {
   "cell_type": "code",
   "execution_count": 13,
   "id": "1ad707f8-e7d9-4d28-8807-110ffda97fa9",
   "metadata": {},
   "outputs": [
    {
     "data": {
      "text/html": [
       "<div>\n",
       "<style scoped>\n",
       "    .dataframe tbody tr th:only-of-type {\n",
       "        vertical-align: middle;\n",
       "    }\n",
       "\n",
       "    .dataframe tbody tr th {\n",
       "        vertical-align: top;\n",
       "    }\n",
       "\n",
       "    .dataframe thead th {\n",
       "        text-align: right;\n",
       "    }\n",
       "</style>\n",
       "<table border=\"1\" class=\"dataframe\">\n",
       "  <thead>\n",
       "    <tr style=\"text-align: right;\">\n",
       "      <th></th>\n",
       "      <th>name</th>\n",
       "      <th>id</th>\n",
       "      <th>price</th>\n",
       "      <th>merchant</th>\n",
       "    </tr>\n",
       "  </thead>\n",
       "  <tbody>\n",
       "    <tr>\n",
       "      <th>0</th>\n",
       "      <td>NO Vegetables</td>\n",
       "      <td>00ukUAFtRk5ddEZURlbP</td>\n",
       "      <td>0.0</td>\n",
       "      <td>4Dvzz5yKZ2gk6YFdHMfS</td>\n",
       "    </tr>\n",
       "    <tr>\n",
       "      <th>1</th>\n",
       "      <td>Extra Green Chili</td>\n",
       "      <td>01Ma9scN8J8xvUAn4IEI</td>\n",
       "      <td>0.0</td>\n",
       "      <td>4Dvzz5yKZ2gk6YFdHMfS</td>\n",
       "    </tr>\n",
       "    <tr>\n",
       "      <th>2</th>\n",
       "      <td>NON Spicy</td>\n",
       "      <td>02ZtuQy7B87vbC6THJzs</td>\n",
       "      <td>0.0</td>\n",
       "      <td>4Dvzz5yKZ2gk6YFdHMfS</td>\n",
       "    </tr>\n",
       "    <tr>\n",
       "      <th>3</th>\n",
       "      <td>Extra Sauce</td>\n",
       "      <td>04lVjLzlv3rXJSywAjY4</td>\n",
       "      <td>0.5</td>\n",
       "      <td>4Dvzz5yKZ2gk6YFdHMfS</td>\n",
       "    </tr>\n",
       "    <tr>\n",
       "      <th>4</th>\n",
       "      <td>Steamed Rice</td>\n",
       "      <td>04Xg9FOSMVSrWiEMh0yv</td>\n",
       "      <td>1.0</td>\n",
       "      <td>4Dvzz5yKZ2gk6YFdHMfS</td>\n",
       "    </tr>\n",
       "  </tbody>\n",
       "</table>\n",
       "</div>"
      ],
      "text/plain": [
       "                name                    id  price              merchant\n",
       "0      NO Vegetables  00ukUAFtRk5ddEZURlbP    0.0  4Dvzz5yKZ2gk6YFdHMfS\n",
       "1  Extra Green Chili  01Ma9scN8J8xvUAn4IEI    0.0  4Dvzz5yKZ2gk6YFdHMfS\n",
       "2          NON Spicy  02ZtuQy7B87vbC6THJzs    0.0  4Dvzz5yKZ2gk6YFdHMfS\n",
       "3        Extra Sauce  04lVjLzlv3rXJSywAjY4    0.5  4Dvzz5yKZ2gk6YFdHMfS\n",
       "4       Steamed Rice  04Xg9FOSMVSrWiEMh0yv    1.0  4Dvzz5yKZ2gk6YFdHMfS"
      ]
     },
     "execution_count": 13,
     "metadata": {},
     "output_type": "execute_result"
    }
   ],
   "source": [
    "df_mii.head()"
   ]
  },
  {
   "cell_type": "code",
   "execution_count": 14,
   "id": "fba745a1-0f0d-430c-aca5-e01c40298c72",
   "metadata": {},
   "outputs": [
    {
     "data": {
      "text/html": [
       "<div>\n",
       "<style scoped>\n",
       "    .dataframe tbody tr th:only-of-type {\n",
       "        vertical-align: middle;\n",
       "    }\n",
       "\n",
       "    .dataframe tbody tr th {\n",
       "        vertical-align: top;\n",
       "    }\n",
       "\n",
       "    .dataframe thead th {\n",
       "        text-align: right;\n",
       "    }\n",
       "</style>\n",
       "<table border=\"1\" class=\"dataframe\">\n",
       "  <thead>\n",
       "    <tr style=\"text-align: right;\">\n",
       "      <th></th>\n",
       "      <th>name</th>\n",
       "      <th>id</th>\n",
       "      <th>menu_items</th>\n",
       "      <th>mods</th>\n",
       "      <th>merchant</th>\n",
       "    </tr>\n",
       "  </thead>\n",
       "  <tbody>\n",
       "    <tr>\n",
       "      <th>0</th>\n",
       "      <td>Grill Option</td>\n",
       "      <td>00rMryTZh1Pixd6m4T8N</td>\n",
       "      <td>NaN</td>\n",
       "      <td>o8hT6HpJv0jAGTAJjQUG</td>\n",
       "      <td>4Dvzz5yKZ2gk6YFdHMfS</td>\n",
       "    </tr>\n",
       "    <tr>\n",
       "      <th>1</th>\n",
       "      <td>Gado-gado Option</td>\n",
       "      <td>09KQyIdpRzQPEVqiKifj</td>\n",
       "      <td>8Z6spgfXuLdR9teADzh8</td>\n",
       "      <td>JfUBBK33mG11W7a3jUul|JT1ax88GObGHbSTRzQvm|SZeI...</td>\n",
       "      <td>4Dvzz5yKZ2gk6YFdHMfS</td>\n",
       "    </tr>\n",
       "    <tr>\n",
       "      <th>2</th>\n",
       "      <td>Satay Options</td>\n",
       "      <td>0apvrkHEw3s1Qf4v20m0</td>\n",
       "      <td>NaN</td>\n",
       "      <td>6MWO8gcnX8asG5sKfOjC|UFZUoYemuN7IL8OuiSEf|g5NH...</td>\n",
       "      <td>4Dvzz5yKZ2gk6YFdHMfS</td>\n",
       "    </tr>\n",
       "    <tr>\n",
       "      <th>3</th>\n",
       "      <td>Choice of Coconut</td>\n",
       "      <td>0uGUi2A6X2eDXRIP8lpc</td>\n",
       "      <td>NaN</td>\n",
       "      <td>NaN</td>\n",
       "      <td>4Dvzz5yKZ2gk6YFdHMfS</td>\n",
       "    </tr>\n",
       "    <tr>\n",
       "      <th>4</th>\n",
       "      <td>Choice of Rice</td>\n",
       "      <td>17uMUrBOSdqYnP0aCT7a</td>\n",
       "      <td>uyLAIkFrugXDFupn5cH6|4S31ZYCqDfHyRlSkkas7|S8G5...</td>\n",
       "      <td>xQcrR7LzSqFFLaiNe5Zn|dRsKiHpWqDG10zbQjZxb|yy6p...</td>\n",
       "      <td>4Dvzz5yKZ2gk6YFdHMfS</td>\n",
       "    </tr>\n",
       "  </tbody>\n",
       "</table>\n",
       "</div>"
      ],
      "text/plain": [
       "                name                    id  \\\n",
       "0       Grill Option  00rMryTZh1Pixd6m4T8N   \n",
       "1   Gado-gado Option  09KQyIdpRzQPEVqiKifj   \n",
       "2      Satay Options  0apvrkHEw3s1Qf4v20m0   \n",
       "3  Choice of Coconut  0uGUi2A6X2eDXRIP8lpc   \n",
       "4     Choice of Rice  17uMUrBOSdqYnP0aCT7a   \n",
       "\n",
       "                                          menu_items  \\\n",
       "0                                                NaN   \n",
       "1                               8Z6spgfXuLdR9teADzh8   \n",
       "2                                                NaN   \n",
       "3                                                NaN   \n",
       "4  uyLAIkFrugXDFupn5cH6|4S31ZYCqDfHyRlSkkas7|S8G5...   \n",
       "\n",
       "                                                mods              merchant  \n",
       "0                               o8hT6HpJv0jAGTAJjQUG  4Dvzz5yKZ2gk6YFdHMfS  \n",
       "1  JfUBBK33mG11W7a3jUul|JT1ax88GObGHbSTRzQvm|SZeI...  4Dvzz5yKZ2gk6YFdHMfS  \n",
       "2  6MWO8gcnX8asG5sKfOjC|UFZUoYemuN7IL8OuiSEf|g5NH...  4Dvzz5yKZ2gk6YFdHMfS  \n",
       "3                                                NaN  4Dvzz5yKZ2gk6YFdHMfS  \n",
       "4  xQcrR7LzSqFFLaiNe5Zn|dRsKiHpWqDG10zbQjZxb|yy6p...  4Dvzz5yKZ2gk6YFdHMfS  "
      ]
     },
     "execution_count": 14,
     "metadata": {},
     "output_type": "execute_result"
    }
   ],
   "source": [
    "df_mg.head()"
   ]
  },
  {
   "cell_type": "code",
   "execution_count": 18,
   "id": "103f97d7-d942-4cea-a9f4-37831ecb9b2c",
   "metadata": {},
   "outputs": [
    {
     "data": {
      "text/plain": [
       "17315"
      ]
     },
     "execution_count": 18,
     "metadata": {},
     "output_type": "execute_result"
    }
   ],
   "source": [
    "# number of orders\n",
    "df_od.customer_id.count()"
   ]
  },
  {
   "cell_type": "code",
   "execution_count": 20,
   "id": "3e1a57ca-b4b0-475e-bbe4-afbf8476ca0f",
   "metadata": {},
   "outputs": [
    {
     "data": {
      "text/plain": [
       "9743"
      ]
     },
     "execution_count": 20,
     "metadata": {},
     "output_type": "execute_result"
    }
   ],
   "source": [
    "# number of unique customers\n",
    "df_od.customer_id.nunique()"
   ]
  },
  {
   "cell_type": "code",
   "execution_count": 21,
   "id": "3f48eaf6-f89b-49f2-81d7-f5f8e5a9fa59",
   "metadata": {},
   "outputs": [
    {
     "ename": "AttributeError",
     "evalue": "'DataFrameGroupBy' object has no attribute 'created'",
     "output_type": "error",
     "traceback": [
      "\u001b[1;31m---------------------------------------------------------------------------\u001b[0m",
      "\u001b[1;31mAttributeError\u001b[0m                            Traceback (most recent call last)",
      "Cell \u001b[1;32mIn[21], line 2\u001b[0m\n\u001b[0;32m      1\u001b[0m \u001b[38;5;66;03m# orders made by each customer\u001b[39;00m\n\u001b[1;32m----> 2\u001b[0m \u001b[43mdf_od\u001b[49m\u001b[38;5;241;43m.\u001b[39;49m\u001b[43mgroupby\u001b[49m\u001b[43m(\u001b[49m\u001b[43mby\u001b[49m\u001b[38;5;241;43m=\u001b[39;49m\u001b[38;5;124;43m\"\u001b[39;49m\u001b[38;5;124;43mcustomer_id\u001b[39;49m\u001b[38;5;124;43m\"\u001b[39;49m\u001b[43m)\u001b[49m\u001b[38;5;241;43m.\u001b[39;49m\u001b[43mcreated\u001b[49m\u001b[38;5;241m.\u001b[39mcount()\n",
      "File \u001b[1;32mc:\\Users\\Benjamin Thong\\.pyenv\\pyenv-win\\versions\\3.10.5\\lib\\site-packages\\pandas\\core\\groupby\\groupby.py:1363\u001b[0m, in \u001b[0;36mGroupBy.__getattr__\u001b[1;34m(self, attr)\u001b[0m\n\u001b[0;32m   1360\u001b[0m \u001b[38;5;28;01mif\u001b[39;00m attr \u001b[38;5;129;01min\u001b[39;00m \u001b[38;5;28mself\u001b[39m\u001b[38;5;241m.\u001b[39mobj:\n\u001b[0;32m   1361\u001b[0m     \u001b[38;5;28;01mreturn\u001b[39;00m \u001b[38;5;28mself\u001b[39m[attr]\n\u001b[1;32m-> 1363\u001b[0m \u001b[38;5;28;01mraise\u001b[39;00m \u001b[38;5;167;01mAttributeError\u001b[39;00m(\n\u001b[0;32m   1364\u001b[0m     \u001b[38;5;124mf\u001b[39m\u001b[38;5;124m\"\u001b[39m\u001b[38;5;124m'\u001b[39m\u001b[38;5;132;01m{\u001b[39;00m\u001b[38;5;28mtype\u001b[39m(\u001b[38;5;28mself\u001b[39m)\u001b[38;5;241m.\u001b[39m\u001b[38;5;18m__name__\u001b[39m\u001b[38;5;132;01m}\u001b[39;00m\u001b[38;5;124m'\u001b[39m\u001b[38;5;124m object has no attribute \u001b[39m\u001b[38;5;124m'\u001b[39m\u001b[38;5;132;01m{\u001b[39;00mattr\u001b[38;5;132;01m}\u001b[39;00m\u001b[38;5;124m'\u001b[39m\u001b[38;5;124m\"\u001b[39m\n\u001b[0;32m   1365\u001b[0m )\n",
      "\u001b[1;31mAttributeError\u001b[0m: 'DataFrameGroupBy' object has no attribute 'created'"
     ]
    }
   ],
   "source": [
    "# orders made by each customer\n",
    "df_od.groupby(by=\"customer_id\").created_at.count()"
   ]
  },
  {
   "cell_type": "code",
   "execution_count": null,
   "id": "5f524d60-5012-4026-a7d8-931de49b90e8",
   "metadata": {},
   "outputs": [
    {
     "data": {
      "text/plain": [
       "name           151\n",
       "id             152\n",
       "description     97\n",
       "price          152\n",
       "merchant       152\n",
       "group_menu     143\n",
       "mod_groups      82\n",
       "dtype: int64"
      ]
     },
     "execution_count": 35,
     "metadata": {},
     "output_type": "execute_result"
    }
   ],
   "source": [
    "# number of items on menu \n",
    "df_mi.count()"
   ]
  },
  {
   "cell_type": "code",
   "execution_count": null,
   "id": "ced7b321-2df6-4222-ab36-be1d17d2975f",
   "metadata": {},
   "outputs": [
    {
     "data": {
      "text/plain": [
       "name          349\n",
       "id            349\n",
       "menu_items    237\n",
       "mods          332\n",
       "merchant      349\n",
       "dtype: int64"
      ]
     },
     "execution_count": 36,
     "metadata": {},
     "output_type": "execute_result"
    }
   ],
   "source": [
    "# number of mod groups (group)\n",
    "df_mg.count()"
   ]
  },
  {
   "cell_type": "code",
   "execution_count": null,
   "id": "edaf6802-ca8d-420f-9f38-76496194b42c",
   "metadata": {},
   "outputs": [
    {
     "data": {
      "text/plain": [
       "name        1031\n",
       "id          1031\n",
       "price       1031\n",
       "merchant    1031\n",
       "dtype: int64"
      ]
     },
     "execution_count": 50,
     "metadata": {},
     "output_type": "execute_result"
    }
   ],
   "source": [
    "# number of mod_options (mod options is easier to understand)\n",
    "df_mii.count()"
   ]
  },
  {
   "cell_type": "code",
   "execution_count": null,
   "id": "3892f2c9-b09f-40ba-864a-a5a4ab963bfe",
   "metadata": {},
   "outputs": [],
   "source": []
  }
 ],
 "metadata": {
  "kernelspec": {
   "display_name": "Python 3 (ipykernel)",
   "language": "python",
   "name": "python3"
  },
  "language_info": {
   "codemirror_mode": {
    "name": "ipython",
    "version": 3
   },
   "file_extension": ".py",
   "mimetype": "text/x-python",
   "name": "python",
   "nbconvert_exporter": "python",
   "pygments_lexer": "ipython3",
   "version": "3.10.5"
  }
 },
 "nbformat": 4,
 "nbformat_minor": 5
}
